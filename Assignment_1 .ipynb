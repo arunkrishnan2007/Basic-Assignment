{
 "cells": [
  {
   "cell_type": "markdown",
   "id": "ae6432ff",
   "metadata": {},
   "source": [
    "# 1. In the below elements which of them are values or an expression? eg:- values can be integer or string and expressions will be mathematical operators.\n",
    "\n",
    "* - expression (Mathematical operator)\n",
    "'hello' - values (String)\n",
    "-87.8 - values (integer)\n",
    "- expression (Mathematical operator)\n",
    "/ expression (Mathematical operator)\n",
    "6 values (integer)\n",
    "\n"
   ]
  },
  {
   "cell_type": "raw",
   "id": "a6965f59",
   "metadata": {},
   "source": []
  },
  {
   "cell_type": "markdown",
   "id": "6f0001d9",
   "metadata": {},
   "source": [
    "# 2. What is the difference between string and variable?\n"
   ]
  },
  {
   "cell_type": "markdown",
   "id": "c91188c6",
   "metadata": {},
   "source": [
    "varibale is something we can store data.\n",
    "For variable we can assign the value to it\n",
    "\n",
    "strings can be considered as data.\n",
    "we can declare string as a variable.\n",
    "for that we need to declare as below\n",
    "\n",
    "a=\"India\"\n",
    "here \"a\" is a varibale\n",
    "\"India\" is a string and it us the data which is stored in a "
   ]
  },
  {
   "cell_type": "markdown",
   "id": "e5c1b8f4",
   "metadata": {},
   "source": [
    "# 3) Describe three different data types."
   ]
  },
  {
   "cell_type": "markdown",
   "id": "099579cd",
   "metadata": {},
   "source": [
    "1) Numeric data types\n",
    "2) String data types\n",
    "3) Sequence data types\n",
    "4) Boolean \n",
    "5) Dictonary\n",
    "6) Binary types\n",
    "\n",
    "1) Numeric data types\n",
    "\n",
    "    int- integer, which are integers/numbers like 1,2,3,1000\n",
    "    float- floating points, which are decimal values like 12.5, 44.1, 10.0\n",
    "    complex- used to call complex numbers, 4+8j, Real part + imajinary part\n",
    "\n",
    "2) String data types\n",
    "    str- string, which are characters \"Arun\", \"b\", \"India\"\n",
    "\n",
    "3) Sequence data types\n",
    "    used to store list of elements\n",
    "    List, tuples, set\n",
    "    \n",
    "4) Boolean\n",
    " True, False\n",
    " \n",
    "5) Dictonary\n",
    " dict- used to store key value pair\n",
    " \"key01\": \"cricket\", \"runs\":25000,  \n",
    " \n",
    "6) Binary types\n",
    "\n"
   ]
  },
  {
   "cell_type": "markdown",
   "id": "e601d91e",
   "metadata": {},
   "source": [
    "# 4. What is an expression made up of? What do all expressions do?\n"
   ]
  },
  {
   "cell_type": "markdown",
   "id": "371ba8a6",
   "metadata": {},
   "source": [
    "Expression is a combination of operators and operands.\n",
    "Expression produce some values/results\n",
    "eg: \n",
    "    x=5\n",
    "    y=25\n",
    "    x+y #expression which produce a values"
   ]
  },
  {
   "cell_type": "markdown",
   "id": "299f7f78",
   "metadata": {},
   "source": [
    "# 5. This assignment statements, like spam = 10. What is the difference between an expression and a statement?\n"
   ]
  },
  {
   "cell_type": "markdown",
   "id": "ba9ca5dc",
   "metadata": {},
   "source": [
    "spam =10 is a statement, which is delcaring a varibale called spam\n",
    "\n",
    "Expression is used to produce value.\n",
    "Statemnet is used to declare varibale or to display some values\n",
    "\n"
   ]
  },
  {
   "cell_type": "markdown",
   "id": "1503cd3e",
   "metadata": {},
   "source": [
    "# 6. After running the following code, what does the variable bacon contain?\n",
    "bacon = 22\n",
    "\n",
    "bacon + 1\n"
   ]
  },
  {
   "cell_type": "markdown",
   "id": "da9b07eb",
   "metadata": {},
   "source": [
    "bacon = 22\n",
    "bacon+1 # just adding 1 and not reassiging any valye to becon\n",
    "print(bacon) #print only 22\n",
    "\n",
    "varibale bacon contains value 22\n",
    "if we want to store bacon as 23 means we should write bacon=bacon+1\n"
   ]
  },
  {
   "cell_type": "markdown",
   "id": "edbbf785",
   "metadata": {},
   "source": [
    "# 7. What should the values of the following two terms be?\n",
    "'spam' + 'spamspam'\n",
    "\n",
    "'spam' * 3\n"
   ]
  },
  {
   "cell_type": "code",
   "execution_count": 23,
   "id": "2dcd8b05",
   "metadata": {},
   "outputs": [
    {
     "data": {
      "text/plain": [
       "'spamspamspam'"
      ]
     },
     "execution_count": 23,
     "metadata": {},
     "output_type": "execute_result"
    }
   ],
   "source": [
    "'spam' + 'spamspam'\n",
    "\n"
   ]
  },
  {
   "cell_type": "code",
   "execution_count": 19,
   "id": "4436947e",
   "metadata": {},
   "outputs": [
    {
     "data": {
      "text/plain": [
       "'spamspamspam'"
      ]
     },
     "execution_count": 19,
     "metadata": {},
     "output_type": "execute_result"
    }
   ],
   "source": [
    "'spam' * 3"
   ]
  },
  {
   "cell_type": "markdown",
   "id": "fcd47dc7",
   "metadata": {},
   "source": [
    "both gives the same resuslt \"spamspamspam\""
   ]
  },
  {
   "cell_type": "markdown",
   "id": "8f6e72ee",
   "metadata": {},
   "source": [
    "# 8. Why is eggs a valid variable name while 100 is invalid?"
   ]
  },
  {
   "cell_type": "markdown",
   "id": "180a5ca9",
   "metadata": {},
   "source": [
    "eggs is string datatype, string can be used as varibale for assigning data.\n",
    "100 is an integer/numeric datatypes which cannot store any data or cannot be used as a varibale\n",
    "Variable names cannot begin with a number.\n"
   ]
  },
  {
   "cell_type": "markdown",
   "id": "8602df24",
   "metadata": {},
   "source": [
    "# 9. What three functions can be used to get the integer, floating-point number, or string version of a value?"
   ]
  },
  {
   "cell_type": "markdown",
   "id": "372fe4c3",
   "metadata": {},
   "source": [
    "int() - integer\n",
    "float()- floating point\n",
    "str ()- string"
   ]
  },
  {
   "cell_type": "markdown",
   "id": "781d061c",
   "metadata": {},
   "source": [
    "# 10. Why does this expression cause an error? How can you fix it?\n",
    "\n",
    "'I have eaten ' + 99 + ' burritos.'\n"
   ]
  },
  {
   "cell_type": "markdown",
   "id": "cfd4d06a",
   "metadata": {},
   "source": [
    "'I have eaten ' + 99 + ' burritos.'\n",
    "we can concatenate only tring not integer direclty.\n",
    "we can convert 99 to str by \"99\" and concatenate wit the statement as below\n"
   ]
  },
  {
   "cell_type": "code",
   "execution_count": 38,
   "id": "f4ea39af",
   "metadata": {},
   "outputs": [
    {
     "data": {
      "text/plain": [
       "'I have eaten 99 burritos.'"
      ]
     },
     "execution_count": 38,
     "metadata": {},
     "output_type": "execute_result"
    }
   ],
   "source": [
    "'I have eaten ' + \"99\" + ' burritos.'"
   ]
  },
  {
   "cell_type": "code",
   "execution_count": null,
   "id": "b383aa61",
   "metadata": {},
   "outputs": [],
   "source": []
  }
 ],
 "metadata": {
  "kernelspec": {
   "display_name": "Python 3 (ipykernel)",
   "language": "python",
   "name": "python3"
  },
  "language_info": {
   "codemirror_mode": {
    "name": "ipython",
    "version": 3
   },
   "file_extension": ".py",
   "mimetype": "text/x-python",
   "name": "python",
   "nbconvert_exporter": "python",
   "pygments_lexer": "ipython3",
   "version": "3.11.5"
  }
 },
 "nbformat": 4,
 "nbformat_minor": 5
}
